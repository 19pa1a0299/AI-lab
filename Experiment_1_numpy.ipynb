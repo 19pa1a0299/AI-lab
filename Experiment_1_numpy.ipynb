{
  "nbformat": 4,
  "nbformat_minor": 0,
  "metadata": {
    "colab": {
      "name": "Experiment 1 numpy.ipynb",
      "provenance": [],
      "collapsed_sections": [],
      "authorship_tag": "ABX9TyNcvQYMkt2ei6t1P9cUWRY+",
      "include_colab_link": true
    },
    "kernelspec": {
      "name": "python3",
      "display_name": "Python 3"
    }
  },
  "cells": [
    {
      "cell_type": "markdown",
      "metadata": {
        "id": "view-in-github",
        "colab_type": "text"
      },
      "source": [
        "<a href=\"https://colab.research.google.com/github/19pa1a0299/AI-lab/blob/master/Experiment_1_numpy.ipynb\" target=\"_parent\"><img src=\"https://colab.research.google.com/assets/colab-badge.svg\" alt=\"Open In Colab\"/></a>"
      ]
    },
    {
      "cell_type": "markdown",
      "metadata": {
        "id": "HFF7iQ4fS1Rm",
        "colab_type": "text"
      },
      "source": [
        "Experiment No 1:Numpy [19pa1a0299]"
      ]
    },
    {
      "cell_type": "markdown",
      "metadata": {
        "id": "KQfZ0byJTQPN",
        "colab_type": "text"
      },
      "source": [
        "1)Different ways to create a Numpy arrays"
      ]
    },
    {
      "cell_type": "code",
      "metadata": {
        "id": "jImc8YRVTWO9",
        "colab_type": "code",
        "colab": {
          "base_uri": "https://localhost:8080/",
          "height": 34
        },
        "outputId": "798c7a7c-ef7c-4452-c9ea-6f89e218fdd7"
      },
      "source": [
        "[ ]\n",
        "import numpy as np\n",
        "p=np.array([1,2,3])\n",
        "print(p)"
      ],
      "execution_count": 1,
      "outputs": [
        {
          "output_type": "stream",
          "text": [
            "[1 2 3]\n"
          ],
          "name": "stdout"
        }
      ]
    },
    {
      "cell_type": "code",
      "metadata": {
        "id": "2NuIXTN0TeE8",
        "colab_type": "code",
        "colab": {
          "base_uri": "https://localhost:8080/",
          "height": 51
        },
        "outputId": "24a094b9-a009-4a78-d7cb-83fbb28791e3"
      },
      "source": [
        "p=np.array([[1,2,3],[10,20,30]])\n",
        "print(p)"
      ],
      "execution_count": 2,
      "outputs": [
        {
          "output_type": "stream",
          "text": [
            "[[ 1  2  3]\n",
            " [10 20 30]]\n"
          ],
          "name": "stdout"
        }
      ]
    },
    {
      "cell_type": "markdown",
      "metadata": {
        "id": "1LMuEXWxTmkt",
        "colab_type": "text"
      },
      "source": [
        "2) ADD,REMOVE, MODIFY array elements in array"
      ]
    },
    {
      "cell_type": "markdown",
      "metadata": {
        "id": "xEGI4UYDTr1d",
        "colab_type": "text"
      },
      "source": [
        "Add"
      ]
    },
    {
      "cell_type": "code",
      "metadata": {
        "id": "mT_nqtd2Tuc8",
        "colab_type": "code",
        "colab": {
          "base_uri": "https://localhost:8080/",
          "height": 34
        },
        "outputId": "dd9ae4bb-be4f-4c1b-c3ca-e2b2d5bc495f"
      },
      "source": [
        "a=np.array([1,2,3])\n",
        "b=np.append(a,[96,98,100])\n",
        "print(b)"
      ],
      "execution_count": 5,
      "outputs": [
        {
          "output_type": "stream",
          "text": [
            "[  1   2   3  96  98 100]\n"
          ],
          "name": "stdout"
        }
      ]
    },
    {
      "cell_type": "markdown",
      "metadata": {
        "id": "vdrV-ap_UA7c",
        "colab_type": "text"
      },
      "source": [
        "Remove"
      ]
    },
    {
      "cell_type": "code",
      "metadata": {
        "id": "3Iwy96zkUDFc",
        "colab_type": "code",
        "colab": {
          "base_uri": "https://localhost:8080/",
          "height": 34
        },
        "outputId": "6dbbf2c5-11b8-432f-8400-a018993fc1be"
      },
      "source": [
        "x=np.delete(a,2)\n",
        "print(x)"
      ],
      "execution_count": 6,
      "outputs": [
        {
          "output_type": "stream",
          "text": [
            "[1 2]\n"
          ],
          "name": "stdout"
        }
      ]
    },
    {
      "cell_type": "markdown",
      "metadata": {
        "id": "_0nXIFNRU0CV",
        "colab_type": "text"
      },
      "source": [
        "Modify"
      ]
    },
    {
      "cell_type": "code",
      "metadata": {
        "id": "aS8dTFLgU141",
        "colab_type": "code",
        "colab": {
          "base_uri": "https://localhost:8080/",
          "height": 34
        },
        "outputId": "5448afcc-069f-4ef7-9ad1-53931d3d4eef"
      },
      "source": [
        "x[x<2]=-1\n",
        "print(x)"
      ],
      "execution_count": 7,
      "outputs": [
        {
          "output_type": "stream",
          "text": [
            "[-1  2]\n"
          ],
          "name": "stdout"
        }
      ]
    },
    {
      "cell_type": "markdown",
      "metadata": {
        "id": "ik6tJ6fcU32u",
        "colab_type": "text"
      },
      "source": [
        "3) Arthematic operations on Numpy array [ ]"
      ]
    },
    {
      "cell_type": "code",
      "metadata": {
        "id": "epZaXe3JU-PP",
        "colab_type": "code",
        "colab": {
          "base_uri": "https://localhost:8080/",
          "height": 102
        },
        "outputId": "8421f586-faa8-45fc-95df-536db3bcaf90"
      },
      "source": [
        "[ ]\n",
        "import numpy as np\n",
        "l=([9,8,7])\n",
        "m=([7,8,9])\n",
        "num_sum=np.add(l,m)\n",
        "num_diff=np.subtract(l,m)\n",
        "num_prod=np.multiply(l,m)\n",
        "num_quo=np.divide(l,m)\n",
        "num_mod=np.mod(l,m)\n",
        "num_pow=np.power(l,m)\n",
        "print(num_sum)\n",
        "print(num_diff)\n",
        "print(num_prod)\n",
        "print(num_quo)\n",
        "print(num_mod)"
      ],
      "execution_count": 8,
      "outputs": [
        {
          "output_type": "stream",
          "text": [
            "[16 16 16]\n",
            "[ 2  0 -2]\n",
            "[63 64 63]\n",
            "[1.28571429 1.         0.77777778]\n",
            "[2 0 7]\n"
          ],
          "name": "stdout"
        }
      ]
    },
    {
      "cell_type": "markdown",
      "metadata": {
        "id": "Jc2HXk-MVFvX",
        "colab_type": "text"
      },
      "source": [
        "4)slicing and iterating of numpy array"
      ]
    },
    {
      "cell_type": "markdown",
      "metadata": {
        "id": "ze6yEC8iVJmF",
        "colab_type": "text"
      },
      "source": [
        "Slicing"
      ]
    },
    {
      "cell_type": "code",
      "metadata": {
        "id": "DRCQ6bsDVMLN",
        "colab_type": "code",
        "colab": {
          "base_uri": "https://localhost:8080/",
          "height": 34
        },
        "outputId": "d44a323f-d5b0-4722-caca-f3e701337a5f"
      },
      "source": [
        "import numpy as np\n",
        "arr=np.array([1,2,3,4,5,6,7,8])\n",
        "print(arr[1:8])"
      ],
      "execution_count": 10,
      "outputs": [
        {
          "output_type": "stream",
          "text": [
            "[2 3 4 5 6 7 8]\n"
          ],
          "name": "stdout"
        }
      ]
    },
    {
      "cell_type": "markdown",
      "metadata": {
        "id": "XtCq3kuGVQ72",
        "colab_type": "text"
      },
      "source": [
        "Iterating"
      ]
    },
    {
      "cell_type": "code",
      "metadata": {
        "id": "s8I08QKZWsYN",
        "colab_type": "code",
        "colab": {
          "base_uri": "https://localhost:8080/",
          "height": 153
        },
        "outputId": "9372cdf5-cce3-451f-f997-2ccd99dcc933"
      },
      "source": [
        "for x in arr:\n",
        " print(x)"
      ],
      "execution_count": 19,
      "outputs": [
        {
          "output_type": "stream",
          "text": [
            "1\n",
            "2\n",
            "3\n",
            "4\n",
            "5\n",
            "6\n",
            "7\n",
            "8\n"
          ],
          "name": "stdout"
        }
      ]
    },
    {
      "cell_type": "markdown",
      "metadata": {
        "id": "4gelN3B_Wd2u",
        "colab_type": "text"
      },
      "source": [
        "5) matrix operations on bumpy arrays"
      ]
    },
    {
      "cell_type": "code",
      "metadata": {
        "id": "fL8lBc5vWfDe",
        "colab_type": "code",
        "colab": {
          "base_uri": "https://localhost:8080/",
          "height": 119
        },
        "outputId": "9e52cede-c5a8-4877-88b3-b919fac22821"
      },
      "source": [
        "[ ]\n",
        "import numpy as np\n",
        "s=np.array([[1,2],[3,4]])\n",
        "t=np.array([[5,6],[7,8]])\n",
        "print(np.add(s,t))\n",
        "print(np.subtract(s,t))\n",
        "print(np.divide(s,t))"
      ],
      "execution_count": 14,
      "outputs": [
        {
          "output_type": "stream",
          "text": [
            "[[ 6  8]\n",
            " [10 12]]\n",
            "[[-4 -4]\n",
            " [-4 -4]]\n",
            "[[0.2        0.33333333]\n",
            " [0.42857143 0.5       ]]\n"
          ],
          "name": "stdout"
        }
      ]
    }
  ]
}